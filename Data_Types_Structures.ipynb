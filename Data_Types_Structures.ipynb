{
  "nbformat": 4,
  "nbformat_minor": 0,
  "metadata": {
    "colab": {
      "provenance": []
    },
    "kernelspec": {
      "name": "python3",
      "display_name": "Python 3"
    },
    "language_info": {
      "name": "python"
    }
  },
  "cells": [
    {
      "cell_type": "markdown",
      "source": [
        "1. What are data structures, and why are they important ?\n",
        "- A data structure is a way of organizing, storing, and managing data in a computer so that it can be accessed and modified efficiently. It defines how data elements relate to one another and how they can be manipulated.\n",
        "- Data structure  are important because :\n",
        "- Efficient Data Management – They help in organizing data so it can be processed efficiently.\n",
        "- Optimized Performance – Using the right data structure improves algorithm - - - performance in terms of speed and memory usage.\n",
        "- Faster Searching & Sorting – Structures like binary search trees and hash tables make searching and sorting faster.\n",
        "- Data Representation – They provide meaningful ways to represent complex - relationships in real-world problems (e.g., networks, file systems).\n",
        "- Foundation for Algorithms – Many algorithms depend on specific data structures for their functionality (e.g., Dijkstra’s algorithm for shortest paths in graphs).\n"
      ],
      "metadata": {
        "id": "LqeGhhoUD1Ua"
      }
    },
    {
      "cell_type": "markdown",
      "source": [
        "2. Explain the difference between mutable and immutable data types with examples ?\n",
        "- In Python, mutability refers to whether an object's value can be changed after creation.\n",
        "\n",
        "- Mutable objects: Can be changed (modified) after creation.\n",
        "Immutable objects: Cannot be changed after creation.\n",
        " - Mutable Data Types (Can Be Modified)\n",
        "-  Mutable objects allow modifications such as adding, removing, or updating elements without changing their memory address.\n",
        "\n",
        "- Examples of Mutable Data Types\n",
        "- Lists\n",
        "- Dictionaries\n",
        "- Sets\n",
        "-Examples of (list) Mutable Data Types :\n",
        "- User-defined (Custom) Objects\n",
        "-Examle of Mutable data types :\n",
        "-my_list = [1, 2, 3]\n",
        "-print(id(my_list))  # Memory address before modification\n",
        "\n",
        "- my_list.append(4)  # Modifying the list\n",
        "- print(my_list)  # Output: [1, 2, 3, 4]\n",
        "- print(id(my_list))  # Same memory address (modification in place)\n",
        "  \n",
        "  Immutable Data Types (Cannot Be Modified)\n",
        "Immutable objects cannot be changed after creation. Any modification creates a new object in memory instead of changing the existing one.\n",
        "\n",
        "- Examples of Immutable Data Types\n",
        "- Integers (int)\n",
        "- Floats (float)\n",
        "- Strings (str)\n",
        "- Tuples (tuple)\n",
        "- Booleans (bool)\n",
        "- Frozen Sets (frozenset)\n",
        "\n",
        "- Example of (Strings) Immutable Data Types :\n",
        "- my_str = \"Hello\"\n",
        "- print(id(my_str))  # Memory address before modification\n",
        "\n",
        "- my_str += \" World\"  # Attempting to modify the string\n",
        "- print(my_str)  # Output: 'Hello World'\n",
        "- print(id(my_str))  # New memory address (a new object is created)\n"
      ],
      "metadata": {
        "id": "Uh11QWgYJeAa"
      }
    },
    {
      "cell_type": "markdown",
      "source": [
        "3.  What are the main differences between lists and tuples in Python ?\n",
        "-  Lists :\n",
        "you can add, remove, or modify items.\n",
        "- Slower because of modifications.\n",
        "- When data needs to change (e.g., shopping list).\n",
        "- EX - my_list = [1, 2, 3]\n",
        "- Tuples :No, once created, it cannot be changed\n",
        "- Faster because it's fixed.\n",
        "- Uses less memory.\n",
        "- When data should stay the same (e.g., days of the week).\n",
        "- Ex- my_tuple = (1, 2, 3)\n"
      ],
      "metadata": {
        "id": "Y8FkLdjeNUw3"
      }
    },
    {
      "cell_type": "markdown",
      "source": [
        "4. Describe how dictionaries store data ?\n",
        "- A dictionary in Python stores data as key-value pairs, where each key is unique and maps to a specific value.\n",
        "\n",
        "- How It Works:\n",
        "Python dictionaries use a hash table internally.\n",
        "When a key is added, Python computes a hash value for it.\n",
        "This hash value determines where the key-value pair is stored in memory.\n",
        "When retrieving data, Python quickly finds the key using its hash value, making lookups very fast.\n",
        "- Example\n",
        "-student = {\n",
        "   -  \"name\": \"Alice\",\n",
        "   -  \"age\": 20,\n",
        "   -  \"grade\": \"A\"\n",
        "- }\n",
        "- print(student[\"name\"])  # Output: Alice\n",
        "\n"
      ],
      "metadata": {
        "id": "rZZ4KENqOptq"
      }
    },
    {
      "cell_type": "markdown",
      "source": [
        "5. Why might you use a set instead of a list in Python ?\n",
        "- A set is an unordered collection of unique elements. In some cases, a set is better than a list because of its unique properties.\n",
        "- Sets Automatically Remove Duplicates\n",
        "Use a set when you want to store only unique values.\n",
        "Lists allow duplicates, so you would need extra steps to remove them.\n",
        "- Sets Are Faster for Lookups (O(1) Time Complexity)\n",
        "Checking if an item exists in a list takes O(n) time (slow for large lists).\n",
        "Checking in a set takes O(1) time (very fast).\n",
        "- Sets Support Set Operations (Union, Intersection, Difference)\n",
        "If you need to compare two collections, sets make it easy.\n",
        "\n",
        "\n"
      ],
      "metadata": {
        "id": "eE7bTnyYPeZF"
      }
    },
    {
      "cell_type": "markdown",
      "source": [
        "6. What is a string in Python, and how is it different from a list ?\n",
        "- A string in Python is a sequence of characters enclosed in quotes (' ' or \" \"). It is used to store and manipulate text.\n",
        "- text = \"Hello, World!\"\n",
        "print(text)  # Output: Hello, World!\n",
        "Feature\tString (str)\tList (list)\n",
        "-String (str):\n",
        "\tA sequence of characters\n",
        "  -  Immutable (cannot be changed)\n",
        "  - Supports indexing (text[0])\n",
        "  - Cannot modify characters directly\n",
        "  - Used for text\n",
        "- List : A sequence of elements (any data type)\n",
        "- Mutable (can be modified)\n",
        "-  Supports indexing (my_list[0])\n",
        "- Can modify elements directly\n",
        "- Used for collections of items\n",
        "\n"
      ],
      "metadata": {
        "id": "c_JJaAWpQCoL"
      }
    },
    {
      "cell_type": "markdown",
      "source": [
        "7.  How do tuples ensure data integrity in Python ?\n",
        "- A tuple is an immutable sequence in Python, meaning its values cannot be changed after creation. This immutability helps ensure data integrity in several ways.\n",
        "- Prevents Accidental Modification\n",
        "- Ensures Safe Data Transmission\n",
        "- Supports Hashing for Use in Sets & Dictionaries\n",
        "- Makes Code More Predictable & Safer\n"
      ],
      "metadata": {
        "id": "RrT-tw7PRb7G"
      }
    },
    {
      "cell_type": "markdown",
      "source": [
        "8. What is a hash table, and how does it relate to dictionaries in Python?\n",
        "- A hash table is a data structure that stores key-value pairs and allows fast lookups, insertions, and deletions. It is the foundation of Python dictionaries (dict).\n",
        "- Hash Tables Are Important for Dictionaries\n",
        "-  Fast lookups, insertions, and deletions (O(1) average time).\n",
        "-  Efficient memory use by hashing keys to locations.\n",
        "-  Prevents duplicate keys (each key must be unique).\n",
        "\n"
      ],
      "metadata": {
        "id": "Uetd0H9VSQbk"
      }
    },
    {
      "cell_type": "markdown",
      "source": [
        "9.  Can lists contain different data types in Python ?\n",
        "- Yes, lists can contain different data types in Python!\n",
        "\n",
        "A list in Python is an ordered collection that can store elements of any data type, including integers, strings, floats, and even other lists or custom objects.\n"
      ],
      "metadata": {
        "id": "XaBv-WNfStSw"
      }
    },
    {
      "cell_type": "markdown",
      "source": [
        "10. Explain why strings are immutable in Python ?\n",
        "- In Python, strings are immutable, meaning their values cannot be changed after they are created. There are several reasons for this design decision:\n",
        "- Performance and Efficiency\n",
        "-Memory Optimization: Immutability allows Python to reuse string objects efficiently. When strings are shared across different parts of the program, Python doesn’t need to create new copies, which saves both memory and processing time.\n",
        "- Interpreters Can Optimize: The interpreter can make optimizations, such as interning strings (storing only one copy of identical strings in memory). This wouldn't be possible if strings were mutable.\n",
        "- Security and Data Integrity\n",
        "- Preventing Accidental Changes: Immutability helps ensure that strings cannot be accidentally modified. This is especially useful when passing strings between functions, as you can be sure they will stay unchanged, ensuring data integrity.\n",
        "\n"
      ],
      "metadata": {
        "id": "tmX_LYUOS8UH"
      }
    },
    {
      "cell_type": "markdown",
      "source": [
        "11. What advantages do dictionaries offer over lists for certain tasks ?\n",
        "- Dictionaries offer several advantages over lists, especially when you need to store and retrieve data efficiently. Here are some key advantages of using dictionaries for certain tasks:\n",
        "\n",
        " - Fast Lookups (O(1) Time Complexity)\n",
        " -  Storing Data with Unique Keys\n",
        " -  Storing Data with Unique Keys\n",
        " - Efficient Updates and Insertions\n",
        " - Handling Missing Data (Default Values)\n",
        " - Intuitive Structure for Key-Value Relationships\n",
        "\n"
      ],
      "metadata": {
        "id": "Xfm4WG6BTrza"
      }
    },
    {
      "cell_type": "markdown",
      "source": [
        "12. Describe a scenario where using a tuple would be preferable over a list ?\n",
        "- Scenario: Storing Fixed Coordinates for a Geolocation System\n",
        "Imagine you're building a geolocation system where you need to store latitude and longitude values for various locations. These coordinates are fixed for each location and should never change once assigned.\n",
        "\n",
        "- Why Use a Tuple Over a List?\n",
        "- Immutability (Prevents Accidental Changes)\n",
        "Since the coordinates should remain unchanged throughout the program (they represent a fixed point on Earth), using a tuple ensures that they can't be modified accidentally.\n",
        "If you used a list, there would be a risk of modifying the values later, which would lead to incorrect data.\n",
        "\n",
        "- Data Integrity\n",
        "By using a tuple, you are ensuring the integrity of the coordinates. They represent a fixed piece of information that should not be altered.\n",
        "\n",
        "- Optimized Memory Usage\n",
        "Tuples are more memory-efficient than lists. Since you're storing a fixed pair of coordinates (latitude and longitude), using a tuple will save memory, especially if you have many location points in your system.\n",
        "\n"
      ],
      "metadata": {
        "id": "7MZfKhbvUj01"
      }
    },
    {
      "cell_type": "markdown",
      "source": [
        "13. How do sets handle duplicate values in Python ?\n",
        "- In Python, a set is an unordered collection of unique elements. When you try to add a duplicate value to a set, it automatically ignores the duplicate  and keeps only one instance of the value."
      ],
      "metadata": {
        "id": "5NthsCNLU-3m"
      }
    },
    {
      "cell_type": "markdown",
      "source": [],
      "metadata": {
        "id": "MqrxIkoGWl6J"
      }
    },
    {
      "cell_type": "markdown",
      "source": [
        "14. How does the “in” keyword work differently for lists and dictionaries ?\n",
        "- The in keyword in Python is used to check whether an element exists in a list or a dictionary, but it works a little differently for each.\n",
        "- For List :\n",
        "When used with a list, in checks whether a value exists in the list. It returns True if the value is found in the list, and False otherwise.\n",
        "- For dictionaries:\n",
        "When used with a dictionary, in checks for the keys of the dictionary, not the values. It returns True if the specified key exists in the dictionary, and False otherwise."
      ],
      "metadata": {
        "id": "0TDEtr6YWniX"
      }
    },
    {
      "cell_type": "markdown",
      "source": [
        "15.  Can you modify the elements of a tuple? Explain why or why not ?\n",
        "- No, you cannot modify the elements of a tuple. This is because tuples are immutable in Python, meaning their contents cannot be changed after they are created.\n",
        "- Tuples are Immutable:\n",
        "Immutability means that once a tuple is created, its values cannot be altered, added, or removed. This is a design decision for performance and safety reasons. Since tuples are often used to represent fixed collections of data (e.g., coordinates, database records), having them immutable ensures their integrity and prevents accidental changes."
      ],
      "metadata": {
        "id": "2llZfACQXv0c"
      }
    },
    {
      "cell_type": "markdown",
      "source": [
        "16. What is a nested dictionary, and give an example of its use case ?\n",
        "- A nested dictionary is a dictionary that contains other dictionaries as its values. In other words, a dictionary where the value of one or more keys is itself another dictionary.\n",
        "- Use case of a nested dictionary:\n",
        "Nested dictionaries are useful when you need to represent hierarchical data or complex structures where a single key-value pair isn't enough to capture all the information.\n",
        "- students = {\n",
        "    'student1': {\n",
        "        'name': 'Alice',\n",
        "        'age': 20,\n",
        "        'subjects': ['Math', 'Science', 'English']\n",
        "    },\n",
        "    'student2': {\n",
        "        'name': 'Bob',\n",
        "        'age': 22,\n",
        "        'subjects': ['History', 'Math', 'Art']\n",
        "    },\n",
        "    'student3': {\n",
        "        'name': 'Charlie',\n",
        "        'age': 21,\n",
        "        'subjects': ['Physics', 'Chemistry', 'Math']\n",
        "    }\n",
        "}"
      ],
      "metadata": {
        "id": "jDjaoZh1YJej"
      }
    },
    {
      "cell_type": "markdown",
      "source": [
        "17.  Describe the time complexity of accessing elements in a dictionary ?\n",
        "- The time complexity of accessing elements in a dictionary in Python is O(1) on average, meaning it takes constant time to access a value, regardless of the size of the dictionary. This is because Python dictionaries are implemented using a data structure called a hash table.\n",
        "- How it works:\n",
        "- Hashing: When you use a key to access a value, Python first calculates a hash value for the key. This hash is then used to directly access the location in memory where the value is stored.\n",
        "- Direct access: Once the hash is computed, the dictionary can directly access the corresponding value without needing to look through every item, which is why it can do so in constant time on average.\n",
        "- Worst-case scenario:\n",
        "In rare cases, if many keys hash to the same location (called a hash collision), the dictionary may fall back to a process where it has to search through the colliding keys. In such cases, the time complexity could degrade to O(n), where n is the number of elements in the dictionary. However, this is very uncommon and can be avoided with good hash functions."
      ],
      "metadata": {
        "id": "TLrwYw6OZCOU"
      }
    },
    {
      "cell_type": "markdown",
      "source": [
        "18.  What situations are lists preferred over dictionaries ?\n",
        "- Lists are preferred over dictionaries in situations where the order of elements matters, or when you need to work with a simple collection of items without the need for key-value pairs. Here are some specific scenarios where lists are more suitable:\n",
        "- When you need an ordered collection:\n",
        "Lists preserve order, meaning the elements are stored in the order in which they were added. This makes lists ideal when you need to maintain the sequence of elements.\n",
        "- Example: Storing a list of tasks in the order they need to be completed or recording a timeline of events.\n",
        "- When you need to access elements by index:\n",
        "Lists allow you to access elements by their index, making them ideal for cases where you need to retrieve items based on their position rather than by a unique key.\n",
        "Example: A list of students where you might need to retrieve the student at a specific index (e.g., the third student).\n",
        "python\n",
        "Copy\n",
        "Edit\n"
      ],
      "metadata": {
        "id": "bPlMUC6_ZxKm"
      }
    },
    {
      "cell_type": "markdown",
      "source": [
        "19. Why are dictionaries considered unordered, and how does that affect data retrieval ?\n",
        "- Dictionaries in Python were traditionally considered unordered because the order of key-value pairs was not guaranteed. However, starting from Python 3.7, dictionaries maintain insertion order, meaning the items are now stored in the order they are added. Despite this change, dictionaries are still considered unordered in the sense that you access data via keys, not positions, and that their internal implementation is not based on maintaining a specific order of the items."
      ],
      "metadata": {
        "id": "vcJYBdmsaq1M"
      }
    },
    {
      "cell_type": "markdown",
      "source": [
        "20. Explain the difference between a list and a dictionary in terms of data retrieval ?\n",
        "\n",
        "- The key difference between a list and a dictionary in terms of data retrieval lies in how you access the data and how the data is organized:\n",
        "- Data Retrieval in a List:\n",
        "- Index-based access: In a list, data is stored in a sequential order, and you retrieve elements by their index, which is an integer representing the position of the element in the list (starting from 0).\n",
        "- Order matters: Lists maintain the order of elements, so you can access elements in the order they were added.\n",
        "- Time complexity: Accessing an element in a list by index is O(1), meaning it's a constant-time operation, but to search for an element by value (not by index), the time complexity is O(n), where n is the number of elements in the list.\n",
        "- Data Retrieval in a Dictionary:\n",
        "Key-based access: In a dictionary, data is stored as key-value pairs. You retrieve the value associated with a specific key, not by its position in the collection."
      ],
      "metadata": {
        "id": "U5dZXt2ebEi6"
      }
    },
    {
      "cell_type": "code",
      "source": [
        "# Write a code to create a string with your name and print it ?\n",
        "name = \"Sanket Khatik\"\n",
        "print(name)"
      ],
      "metadata": {
        "colab": {
          "base_uri": "https://localhost:8080/"
        },
        "id": "95dmRYOqcS7a",
        "outputId": "3c3e3ab3-de4a-41b3-eb85-68367b4e2dd2"
      },
      "execution_count": 3,
      "outputs": [
        {
          "output_type": "stream",
          "name": "stdout",
          "text": [
            "Sanket Khatik\n"
          ]
        }
      ]
    },
    {
      "cell_type": "code",
      "source": [
        " # Write a code to find the length of the string \"Hello World\" ?\n",
        " # Define the string\n",
        "string = \"Hello World\"\n",
        "\n",
        "# Find the length of the string\n",
        "length = len(string)\n",
        "\n",
        "# Print the length\n",
        "print(\"The length of the string is:\", length)\n",
        ""
      ],
      "metadata": {
        "colab": {
          "base_uri": "https://localhost:8080/"
        },
        "id": "tSuxyTftd8rt",
        "outputId": "076c80cc-49de-4924-ded5-a167370051d4"
      },
      "execution_count": 5,
      "outputs": [
        {
          "output_type": "stream",
          "name": "stdout",
          "text": [
            "The length of the string is: 11\n"
          ]
        }
      ]
    },
    {
      "cell_type": "code",
      "source": [
        "# Write a code to slice the first 3 characters from the string \"Python Programming\"?\n",
        "\n",
        "text = \"Python Programming\"\n",
        "print(text[:3])\n"
      ],
      "metadata": {
        "colab": {
          "base_uri": "https://localhost:8080/"
        },
        "id": "TpBSH5q0eVbp",
        "outputId": "8f34b41a-305d-4edc-ed59-ba8dcdc49f18"
      },
      "execution_count": 6,
      "outputs": [
        {
          "output_type": "stream",
          "name": "stdout",
          "text": [
            "Pyt\n"
          ]
        }
      ]
    },
    {
      "cell_type": "code",
      "source": [
        "# Write a code to convert the string \"hello\" to uppercase ?\n",
        "# Define the string\n",
        "string = \"hello\"\n",
        "\n",
        "# Convert the string to uppercase\n",
        "uppercase_string = string.upper()\n",
        "\n",
        "# Print the uppercase string\n",
        "print(uppercase_string)"
      ],
      "metadata": {
        "colab": {
          "base_uri": "https://localhost:8080/"
        },
        "id": "PCudsgyji1UB",
        "outputId": "aadedf49-9fd4-4f32-991d-718eb4aee815"
      },
      "execution_count": 7,
      "outputs": [
        {
          "output_type": "stream",
          "name": "stdout",
          "text": [
            "HELLO\n"
          ]
        }
      ]
    },
    {
      "cell_type": "code",
      "source": [
        "# Write a code to replace the word \"apple\" with \"orange\" in the string \"I like apple\" ?\n",
        "string = \"I like apple\"\n",
        "string.replace(\"apple\", \"orange\")"
      ],
      "metadata": {
        "colab": {
          "base_uri": "https://localhost:8080/",
          "height": 36
        },
        "id": "TzUmH9wAjUHM",
        "outputId": "feb925db-a9a3-48a2-8613-0962dbb9ba6d"
      },
      "execution_count": 8,
      "outputs": [
        {
          "output_type": "execute_result",
          "data": {
            "text/plain": [
              "'I like orange'"
            ],
            "application/vnd.google.colaboratory.intrinsic+json": {
              "type": "string"
            }
          },
          "metadata": {},
          "execution_count": 8
        }
      ]
    },
    {
      "cell_type": "code",
      "source": [
        "#  Write a code to create a list with numbers 1 to 5 and print it ?\n",
        "numbers = [1, 2, 3, 4, 5]\n",
        "print(numbers)"
      ],
      "metadata": {
        "colab": {
          "base_uri": "https://localhost:8080/"
        },
        "id": "NkxSykSrjcvo",
        "outputId": "3b703730-ba41-4f3c-8ecd-ad0ce08d8f29"
      },
      "execution_count": 9,
      "outputs": [
        {
          "output_type": "stream",
          "name": "stdout",
          "text": [
            "[1, 2, 3, 4, 5]\n"
          ]
        }
      ]
    },
    {
      "cell_type": "code",
      "source": [
        "# Write a code to append the number 10 to the list [1, 2, 3, 4] ?\n",
        "my_list = [1, 2, 3, 4]\n",
        "my_list.append(10)\n",
        "print(my_list)"
      ],
      "metadata": {
        "colab": {
          "base_uri": "https://localhost:8080/"
        },
        "id": "KN_irJBSjkZR",
        "outputId": "cdb540e5-a1db-47f2-f49e-d8ae39f19733"
      },
      "execution_count": 10,
      "outputs": [
        {
          "output_type": "stream",
          "name": "stdout",
          "text": [
            "[1, 2, 3, 4, 10]\n"
          ]
        }
      ]
    },
    {
      "cell_type": "code",
      "source": [
        "# Write a code to remove the number 3 from the list [1, 2, 3, 4, 5] ?\n",
        "my_list = [1, 2, 3, 4, 5]\n",
        "my_list.remove(3)\n",
        "print(my_list)"
      ],
      "metadata": {
        "colab": {
          "base_uri": "https://localhost:8080/"
        },
        "id": "XfZNMH-xjuKh",
        "outputId": "b47847ce-e075-40ef-9853-cafa1d5e9481"
      },
      "execution_count": 11,
      "outputs": [
        {
          "output_type": "stream",
          "name": "stdout",
          "text": [
            "[1, 2, 4, 5]\n"
          ]
        }
      ]
    },
    {
      "cell_type": "code",
      "source": [
        "# Write a code to access the second element in the list ['a', 'b', 'c', 'd'] ?\n",
        "my_list = ['a', 'b', 'c', 'd']\n",
        "second_element = my_list[1]\n",
        "print(second_element)"
      ],
      "metadata": {
        "colab": {
          "base_uri": "https://localhost:8080/"
        },
        "id": "Y0rO_6oIkDXc",
        "outputId": "6f1a0d52-e56e-451b-b1ad-ee8bb5148d86"
      },
      "execution_count": 12,
      "outputs": [
        {
          "output_type": "stream",
          "name": "stdout",
          "text": [
            "b\n"
          ]
        }
      ]
    },
    {
      "cell_type": "code",
      "source": [
        "# Write a code to reverse the list [10, 20, 30, 40, 50] ?\n",
        "my_list = [10, 20, 30, 40, 50]\n",
        "my_list.reverse()\n",
        "print(my_list)\n"
      ],
      "metadata": {
        "colab": {
          "base_uri": "https://localhost:8080/"
        },
        "id": "8Ynw7ONjkMaI",
        "outputId": "b86ed552-1096-4944-f29b-b35d2dbed147"
      },
      "execution_count": 13,
      "outputs": [
        {
          "output_type": "stream",
          "name": "stdout",
          "text": [
            "[50, 40, 30, 20, 10]\n"
          ]
        }
      ]
    },
    {
      "cell_type": "code",
      "source": [
        "# Write a code to create a tuple with the elements 100, 200, 300 and print it ?\n",
        "my_tuple = (100, 200, 300)\n",
        "print(my_tuple)"
      ],
      "metadata": {
        "colab": {
          "base_uri": "https://localhost:8080/"
        },
        "id": "w0lM9ei9kaNT",
        "outputId": "79be5bbf-33b1-495b-e7db-0bcee454791a"
      },
      "execution_count": 14,
      "outputs": [
        {
          "output_type": "stream",
          "name": "stdout",
          "text": [
            "(100, 200, 300)\n"
          ]
        }
      ]
    },
    {
      "cell_type": "code",
      "source": [
        "# Write a code to access the second-to-last element of the tuple ('red', 'green', 'blue', 'yellow') ?\n",
        "my_tuple = ('red', 'green', 'blue', 'yellow')\n",
        "second_to_last_element = my_tuple[-2]\n",
        "print(second_to_last_element)"
      ],
      "metadata": {
        "colab": {
          "base_uri": "https://localhost:8080/"
        },
        "id": "qTlfwiV5krqE",
        "outputId": "4ab8b802-89e5-49a5-cd96-6c8ffe189e27"
      },
      "execution_count": 16,
      "outputs": [
        {
          "output_type": "stream",
          "name": "stdout",
          "text": [
            "blue\n"
          ]
        }
      ]
    },
    {
      "cell_type": "code",
      "source": [
        "# Write a code to find the minimum number in the tuple (10, 20, 5, 15) ?\n",
        "my_tuple = (10, 20, 5, 15)\n",
        "minimum_number = min(my_tuple)\n",
        "print(minimum_number)"
      ],
      "metadata": {
        "colab": {
          "base_uri": "https://localhost:8080/"
        },
        "id": "_0r2tttzk07k",
        "outputId": "f6659c0d-4c96-419e-e050-9d577c31ef11"
      },
      "execution_count": 17,
      "outputs": [
        {
          "output_type": "stream",
          "name": "stdout",
          "text": [
            "5\n"
          ]
        }
      ]
    },
    {
      "cell_type": "code",
      "source": [
        "# Write a code to find the index of the element \"cat\" in the tuple ('dog', 'cat','rabbit') ?\n",
        "# Define the tuple\n",
        "animals = ('dog', 'cat', 'rabbit')\n",
        "\n",
        "# Find the index of the element \"cat\"\n",
        "index_of_cat = animals.index('cat')\n",
        "\n",
        "# Print the index\n",
        "print(\"The index of 'cat' is:\", index_of_cat)\n",
        "\n"
      ],
      "metadata": {
        "colab": {
          "base_uri": "https://localhost:8080/"
        },
        "id": "b6_xaLU5k7cn",
        "outputId": "aff21a8a-c871-4ade-9b6a-10c30f1ce6e2"
      },
      "execution_count": 18,
      "outputs": [
        {
          "output_type": "stream",
          "name": "stdout",
          "text": [
            "The index of 'cat' is: 1\n"
          ]
        }
      ]
    },
    {
      "cell_type": "code",
      "source": [
        "# Write a code to create a tuple containing three different fruits and check if \"kiwi\" is in it ?\n",
        "# Create a tuple with three different fruits\n",
        "fruits = ('apple', 'banana', 'orange')\n",
        "\n",
        "# Check if \"kiwi\" is in the tuple\n",
        "is_kiwi_in_tuple = 'kiwi' in fruits\n",
        "\n",
        "# Print the result\n",
        "print(\"Is 'kiwi' in the tuple?\", is_kiwi_in_tuple)"
      ],
      "metadata": {
        "colab": {
          "base_uri": "https://localhost:8080/"
        },
        "id": "nTRw14Q6mcyF",
        "outputId": "e7b7b2b4-444b-4013-f3cb-399af7c065bb"
      },
      "execution_count": 19,
      "outputs": [
        {
          "output_type": "stream",
          "name": "stdout",
          "text": [
            "Is 'kiwi' in the tuple? False\n"
          ]
        }
      ]
    },
    {
      "cell_type": "code",
      "source": [
        "# Write a code to create a set with the elements 'a', 'b', 'c' and print it?\n",
        "my_set = {'a', 'b', 'c'}\n",
        "print(my_set)"
      ],
      "metadata": {
        "colab": {
          "base_uri": "https://localhost:8080/"
        },
        "id": "xDKt9NOVmxGO",
        "outputId": "dc1d8b94-cdec-4477-ac16-4a56b06e998c"
      },
      "execution_count": 20,
      "outputs": [
        {
          "output_type": "stream",
          "name": "stdout",
          "text": [
            "{'a', 'c', 'b'}\n"
          ]
        }
      ]
    },
    {
      "cell_type": "code",
      "source": [
        "# Write a code to clear all elements from the set {1, 2, 3, 4, 5} ?\n",
        "my_set = {1, 2, 3, 4, 5}\n",
        "my_set.clear()\n",
        "print(my_set)"
      ],
      "metadata": {
        "colab": {
          "base_uri": "https://localhost:8080/"
        },
        "id": "FokxBSZVm3kt",
        "outputId": "bd6cc128-65ba-42cb-ad30-48689245b6c6"
      },
      "execution_count": 21,
      "outputs": [
        {
          "output_type": "stream",
          "name": "stdout",
          "text": [
            "set()\n"
          ]
        }
      ]
    },
    {
      "cell_type": "code",
      "source": [
        "# Write a code to remove the element 4 from the set {1, 2, 3, 4} ?\n",
        "my_set = {1, 2, 3, 4}\n",
        "my_set.remove(4)\n",
        "print(my_set)"
      ],
      "metadata": {
        "colab": {
          "base_uri": "https://localhost:8080/"
        },
        "id": "lDvIDtZNnALY",
        "outputId": "41d80c72-fcea-43ca-8e5b-65cdff42342d"
      },
      "execution_count": 22,
      "outputs": [
        {
          "output_type": "stream",
          "name": "stdout",
          "text": [
            "{1, 2, 3}\n"
          ]
        }
      ]
    },
    {
      "cell_type": "code",
      "source": [
        "# Write a code to find the union of two sets {1, 2, 3} and {3, 4, 5) ?\n",
        "set1 = {1, 2, 3}\n",
        "set2 = {3, 4, 5}\n",
        "union_set = set1.union(set2)\n",
        "print(union_set)"
      ],
      "metadata": {
        "colab": {
          "base_uri": "https://localhost:8080/"
        },
        "id": "_msgMZptnIhG",
        "outputId": "f42ba973-ffa1-4579-f25d-381463da552c"
      },
      "execution_count": 23,
      "outputs": [
        {
          "output_type": "stream",
          "name": "stdout",
          "text": [
            "{1, 2, 3, 4, 5}\n"
          ]
        }
      ]
    },
    {
      "cell_type": "code",
      "source": [
        "#  Write a code to find the intersection of two sets {1, 2, 3} and {2, 3, 4} ?\n",
        "set1 = {1, 2, 3}\n",
        "set2 = {2, 3, 4}\n",
        "intersection_set = set1.intersection(set2)\n",
        "print(intersection_set)"
      ],
      "metadata": {
        "colab": {
          "base_uri": "https://localhost:8080/"
        },
        "id": "mjjWuqv-nSXx",
        "outputId": "91f53d29-67c2-4574-d6a0-93eccaa25ef4"
      },
      "execution_count": 24,
      "outputs": [
        {
          "output_type": "stream",
          "name": "stdout",
          "text": [
            "{2, 3}\n"
          ]
        }
      ]
    },
    {
      "cell_type": "code",
      "source": [
        "# Write a code to create a dictionary with the keys \"name\", \"age\", and \"city\", and print it ?\n",
        "my_dict = {\n",
        "    \"name\": \"John\",\n",
        "    \"age\": 25,\n",
        "    \"city\": \"New York\"\n",
        "}\n",
        "print(my_dict)"
      ],
      "metadata": {
        "colab": {
          "base_uri": "https://localhost:8080/"
        },
        "id": "JxIZjiQ4nZSD",
        "outputId": "5f4d8c04-f1d3-4909-a5d9-f53cce1c7366"
      },
      "execution_count": 25,
      "outputs": [
        {
          "output_type": "stream",
          "name": "stdout",
          "text": [
            "{'name': 'John', 'age': 25, 'city': 'New York'}\n"
          ]
        }
      ]
    },
    {
      "cell_type": "code",
      "source": [
        "# Write a code to add a new key-value pair \"country\": \"USA\" to the dictionary {'name': 'John', 'age': 25} ?\n",
        "my_dict = {'name': 'John', 'age': 25}\n",
        "my_dict['country'] = 'USA'\n",
        "print(my_dict)"
      ],
      "metadata": {
        "colab": {
          "base_uri": "https://localhost:8080/"
        },
        "id": "Td7WhwdRnhh6",
        "outputId": "744f5f1b-bdfa-40d8-8ef0-d43b8e38a0bc"
      },
      "execution_count": 26,
      "outputs": [
        {
          "output_type": "stream",
          "name": "stdout",
          "text": [
            "{'name': 'John', 'age': 25, 'country': 'USA'}\n"
          ]
        }
      ]
    },
    {
      "cell_type": "code",
      "source": [
        "#  Write a code to access the value associated with the key \"name\" in the dictionary {'name': 'Alice', 'age': 30} ?\n",
        "my_dict = {'name': 'Alice', 'age': 30}\n",
        "name_value = my_dict['name']\n",
        "print(name_value)"
      ],
      "metadata": {
        "colab": {
          "base_uri": "https://localhost:8080/"
        },
        "id": "AtIUC6j_ntgw",
        "outputId": "08a1b1f7-a969-464d-9291-f2e4e7a14080"
      },
      "execution_count": 27,
      "outputs": [
        {
          "output_type": "stream",
          "name": "stdout",
          "text": [
            "Alice\n"
          ]
        }
      ]
    },
    {
      "cell_type": "code",
      "source": [
        "# Write a code to remove the key \"age\" from the dictionary {'name': 'Bob', 'age': 22, 'city': 'New York'} ?\n",
        "my_dict = {'name': 'Bob', 'age': 22, 'city': 'New York'}\n",
        "del my_dict['age']\n",
        "print(my_dict)\n"
      ],
      "metadata": {
        "colab": {
          "base_uri": "https://localhost:8080/"
        },
        "id": "Rap-gNyPn_TS",
        "outputId": "6fb79599-4ff0-4aff-a55c-9f02e5511a54"
      },
      "execution_count": 28,
      "outputs": [
        {
          "output_type": "stream",
          "name": "stdout",
          "text": [
            "{'name': 'Bob', 'city': 'New York'}\n"
          ]
        }
      ]
    },
    {
      "cell_type": "code",
      "source": [
        "#  Write a code to check if the key \"city\" exists in the dictionary {'name': 'Alice', 'city': 'Paris'} ?\n",
        "my_dict = {'name': 'Alice', 'city': 'Paris'}\n",
        "if 'city' in my_dict:\n",
        "    print(\"The key 'city' exists in the dictionary.\")\n",
        "else:\n",
        "    print(\"The key 'city' does not exist in the dictionary.\")"
      ],
      "metadata": {
        "colab": {
          "base_uri": "https://localhost:8080/"
        },
        "id": "DyrDVcREoXGa",
        "outputId": "d6058628-e2ba-4ba0-be65-2209dff6ca94"
      },
      "execution_count": 29,
      "outputs": [
        {
          "output_type": "stream",
          "name": "stdout",
          "text": [
            "The key 'city' exists in the dictionary.\n"
          ]
        }
      ]
    },
    {
      "cell_type": "code",
      "source": [
        "#  Write a code to create a list, a tuple, and a dictionary, and print them all ?\n",
        "# Creating a list\n",
        "my_list = [1, 2, 3, 4, 5]\n",
        "\n",
        "# Creating a tuple\n",
        "my_tuple = (10, 20, 30, 40, 50)\n",
        "\n",
        "# Creating a dictionary\n",
        "my_dict = {\n",
        "    'name': 'Alice',\n",
        "    'age': 30,\n",
        "    'city': 'New York'\n",
        "}\n",
        "\n",
        "# Printing the list, tuple, and dictionary\n",
        "print(\"List:\", my_list)\n",
        "print(\"Tuple:\", my_tuple)\n",
        "print(\"Dictionary:\", my_dict)"
      ],
      "metadata": {
        "colab": {
          "base_uri": "https://localhost:8080/"
        },
        "id": "FErUVgkPqAoA",
        "outputId": "51aa9350-6eb8-47f3-b049-27a33048a81e"
      },
      "execution_count": 40,
      "outputs": [
        {
          "output_type": "stream",
          "name": "stdout",
          "text": [
            "List: [1, 2, 3, 4, 5]\n",
            "Tuple: (10, 20, 30, 40, 50)\n",
            "Dictionary: {'name': 'Alice', 'age': 30, 'city': 'New York'}\n"
          ]
        }
      ]
    },
    {
      "cell_type": "code",
      "source": [
        "#  Write a code to create a list of 5 random numbers between 1 and 100, sort it in ascending order, and print the\n",
        "# result.(replaced)\n",
        "import random\n",
        "random_numbers = [random.randint(1, 100) for _ in range(5)]\n",
        "random_numbers.sort()\n",
        "print(random_numbers)"
      ],
      "metadata": {
        "colab": {
          "base_uri": "https://localhost:8080/"
        },
        "id": "CJVwofvKozHe",
        "outputId": "c822190f-7547-46e8-f97e-cd7f0ca93709"
      },
      "execution_count": 34,
      "outputs": [
        {
          "output_type": "stream",
          "name": "stdout",
          "text": [
            "[13, 16, 17, 39, 70]\n"
          ]
        }
      ]
    },
    {
      "cell_type": "code",
      "source": [
        "#  Write a code to create a list with strings and print the element at the third index ?\n",
        "my_list = [\"apple\", \"banana\", \"cherry\", \"date\", \"elderberry\"]\n",
        "third_element = my_list[2]\n",
        "print(third_element)"
      ],
      "metadata": {
        "colab": {
          "base_uri": "https://localhost:8080/"
        },
        "id": "e2_YmH-ppBXg",
        "outputId": "b1c3c9b2-dd78-4bbc-d0b7-2e334deb5673"
      },
      "execution_count": 36,
      "outputs": [
        {
          "output_type": "stream",
          "name": "stdout",
          "text": [
            "cherry\n"
          ]
        }
      ]
    },
    {
      "cell_type": "code",
      "source": [
        "# Write a code to combine two dictionaries into one and print the result ?\n",
        "# Define two dictionaries\n",
        "dict1 = {'a': 1, 'b': 2}\n",
        "dict2 = {'b': 3, 'c': 4}\n",
        "\n",
        "# Combine the dictionaries\n",
        "dict1.update(dict2)\n",
        "\n",
        "# Print the result\n",
        "print(\"Combined dictionary:\", dict1)"
      ],
      "metadata": {
        "colab": {
          "base_uri": "https://localhost:8080/"
        },
        "id": "MzcrkYTepLT2",
        "outputId": "0720058a-49fa-4ba2-afaa-61de471b22bb"
      },
      "execution_count": 37,
      "outputs": [
        {
          "output_type": "stream",
          "name": "stdout",
          "text": [
            "Combined dictionary: {'a': 1, 'b': 3, 'c': 4}\n"
          ]
        }
      ]
    },
    {
      "cell_type": "code",
      "source": [
        " # Write a code to convert a list of strings into a set ?\n",
        " # Sample list of strings\n",
        "string_list = [\"apple\", \"banana\", \"cherry\", \"apple\", \"date\"]\n",
        "\n",
        "# Convert the list to a set\n",
        "string_set = set(string_list)\n",
        "\n",
        "# Print the resulting set\n",
        "print(string_set)"
      ],
      "metadata": {
        "colab": {
          "base_uri": "https://localhost:8080/"
        },
        "id": "CcHOMuFPpdgx",
        "outputId": "9db3cf4f-d9a4-4f8e-d63c-0359fdd2cff7"
      },
      "execution_count": 38,
      "outputs": [
        {
          "output_type": "stream",
          "name": "stdout",
          "text": [
            "{'cherry', 'date', 'apple', 'banana'}\n"
          ]
        }
      ]
    }
  ]
}